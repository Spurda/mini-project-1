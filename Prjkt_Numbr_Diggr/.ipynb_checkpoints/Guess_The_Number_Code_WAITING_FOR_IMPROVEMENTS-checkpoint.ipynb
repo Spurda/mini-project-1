{
 "cells": [
  {
   "cell_type": "code",
   "execution_count": 1,
   "metadata": {},
   "outputs": [],
   "source": [
    "#import random, to be used later by the cpu\n",
    "import random"
   ]
  },
  {
   "cell_type": "markdown",
   "metadata": {},
   "source": [
    "## Version Ultra-Standard"
   ]
  },
  {
   "cell_type": "code",
   "execution_count": null,
   "metadata": {},
   "outputs": [],
   "source": [
    "def first():\n",
    "    \n",
    "    number = int(input('Hello PlayeR' \n",
    "                       + '\\n'\n",
    "                       + 'I was wandering in a street of 1000 houses, numbered from 1 to 1000.'\n",
    "                       + '\\n'\n",
    "                       + 'I stopped somewhere, waiting for you to find me.'\n",
    "                       + '\\n'\n",
    "                       + 'Which number to you think I am at? ' ))\n",
    "    main_loop(number)"
   ]
  },
  {
   "cell_type": "code",
   "execution_count": null,
   "metadata": {},
   "outputs": [],
   "source": [
    "def main_loop(number1):\n",
    "    SecretNumber = random.randint(1,10)\n",
    "    answer = False\n",
    "    while not answer :\n",
    "        if number1 > SecretNumber :\n",
    "            print('You overshoot, I saw you pass by.')       \n",
    "        elif number1 < SecretNumber :\n",
    "            print('You undershoot, no one passed in front of me')\n",
    "            print('')    \n",
    "        elif number1 == SecretNumber :\n",
    "            break\n",
    "                  \n",
    "        number1 = int(input('Try again. What number I am at? '))\n",
    "    \n",
    "    if number1 == SecretNumber :\n",
    "        NewGame = input('I knew you could do it!' + ' ' + str(SecretNumber) + ' was the spot.'\n",
    "                                  + '\\n'\n",
    "                                  + 'Wanna play again(y/n)?')\n",
    "        if NewGame == 'y':\n",
    "            first()"
   ]
  },
  {
   "cell_type": "code",
   "execution_count": null,
   "metadata": {},
   "outputs": [],
   "source": [
    "first()"
   ]
  },
  {
   "cell_type": "markdown",
   "metadata": {},
   "source": [
    "## Version + Élaborée"
   ]
  },
  {
   "cell_type": "markdown",
   "metadata": {},
   "source": [
    "Adding Name Request for scoring purpose / Add difficulty and max guesses / scoring : if not found > 99999"
   ]
  },
  {
   "cell_type": "code",
   "execution_count": 2,
   "metadata": {},
   "outputs": [],
   "source": [
    "#define \"splash screen\"\n",
    "    \n",
    "def welcome_prompt():\n",
    "    print('\\033[1m' + '/__GUESS THE NUMBER__/' + '\\033[0m' + ' a Maël wonky game'\n",
    "          + '\\n'\n",
    "          + 'Oh! Hello?'\n",
    "          + '\\n'\n",
    "          + 'You just stumbled on a secret projekkt and you might have the unprecedented opportunity to be my test subject.')\n",
    "    player_name = (input('First, I will need the name you would like to be refered to : '))\n",
    "    \n",
    "    return player_name\n",
    "\n",
    "#welcome_prompt()\n",
    "    \n"
   ]
  },
  {
   "cell_type": "code",
   "execution_count": null,
   "metadata": {},
   "outputs": [],
   "source": [
    "#username = welcome_prompt()"
   ]
  },
  {
   "cell_type": "code",
   "execution_count": 3,
   "metadata": {},
   "outputs": [],
   "source": [
    "#def difficulty(setting)\n",
    "\n",
    "difficulty_and_guesses = {'smooth' : 5, 'standard' : 7, 'experienced' : 10, 'unfathomable' : 14}\n",
    "\n",
    "def player_difficulty():\n",
    "    difficulty_choice = (input('Difficulty selection.'\n",
    "                        + '\\n'\n",
    "                        + 'What will be your challenge?' \n",
    "                        + '\\n' \n",
    "                        + '    Smooth : number between -11 and 13, 5 attempts to find the answer.'\n",
    "                        + '\\n'\n",
    "                        + '    Standard : number between -106 and 99, 7 attempts'\n",
    "                        + '\\n'\n",
    "                        + '    Experienced : number between -877 and 1173, 10 attempts. ')).lower()\n",
    "    while difficulty_choice not in difficulty_and_guesses :\n",
    "    #try:\n",
    "            #difficulty_choice in difficulty_and_guesses\n",
    "            \n",
    "    #except:\n",
    "        difficulty_choice =  (input('\\n'\n",
    "                            + 'You probably mispelled your difficulty :/, . What will be your challenge?' \n",
    "                            + '\\n' \n",
    "                            + '    Smooth : number between -11 and 13, 5 attempts to find the answer.'\n",
    "                            + '\\n'\n",
    "                            + '    Standard : number between -106 and 99, 7 attempts'\n",
    "                            + '\\n'\n",
    "                            + '    Experienced : number between -877 and 1173, 10 attempts. ')).lower()  \n",
    "\n",
    "    return difficulty_choice"
   ]
  },
  {
   "cell_type": "code",
   "execution_count": null,
   "metadata": {},
   "outputs": [],
   "source": [
    "#test\n",
    "#player_difficulty()\n"
   ]
  },
  {
   "cell_type": "code",
   "execution_count": 11,
   "metadata": {},
   "outputs": [
    {
     "name": "stdout",
     "output_type": "stream",
     "text": [
      "Difficulty selection.\n",
      "What will be your challenge?\n",
      "    Smooth : number between -11 and 13, 5 attempts to find the answer.\n",
      "    Standard : number between -106 and 99, 7 attempts\n",
      "    Experienced : number between -877 and 1173, 10 attempts. smooth\n"
     ]
    }
   ],
   "source": [
    "difficulty = player_difficulty()"
   ]
  },
  {
   "cell_type": "code",
   "execution_count": 12,
   "metadata": {},
   "outputs": [
    {
     "name": "stdout",
     "output_type": "stream",
     "text": [
      "5\n"
     ]
    }
   ],
   "source": [
    "# Initialisation du nombre de guesses \n",
    "\n",
    "def guesses_initialization(difficulty):    \n",
    "    return difficulty_and_guesses.get(difficulty)\n",
    "\n",
    "guesses_allowed = guesses_initialization(difficulty)    \n",
    "\n",
    "print(guesses_allowed)"
   ]
  },
  {
   "cell_type": "code",
   "execution_count": null,
   "metadata": {},
   "outputs": [],
   "source": [
    "# [key for (key, value) in difficulty_and_guesses.items() if value == difficulty]"
   ]
  },
  {
   "cell_type": "code",
   "execution_count": 5,
   "metadata": {},
   "outputs": [],
   "source": [
    "#definir le nombre choisi par l'ordinateur pour la difficulté \n",
    "def game_start(difficulty):\n",
    "    if difficulty == 'smooth' :\n",
    "        number = random.randint(-11,13)\n",
    "        print('The secret number is somewhere in between -11 and 13.')\n",
    "    \n",
    "    elif difficulty == 'standard' :\n",
    "        number = random.randint(-106,99)\n",
    "        inputrange()\n",
    "        print('The secret number is somewhere in between -106 and 99.')\n",
    "    \n",
    "    elif difficulty == 'experienced' :\n",
    "        number = random.randint(-877,1173)\n",
    "        inputrange = range(-877,1173)\n",
    "        print('The secret number is somewhere in between -877 and 1173.')\n",
    "    \n",
    "    return number, inputrange"
   ]
  },
  {
   "cell_type": "code",
   "execution_count": null,
   "metadata": {},
   "outputs": [],
   "source": []
  },
  {
   "cell_type": "code",
   "execution_count": null,
   "metadata": {},
   "outputs": [],
   "source": [
    "#game_start(difficulty)"
   ]
  },
  {
   "cell_type": "code",
   "execution_count": 43,
   "metadata": {},
   "outputs": [],
   "source": [
    "#SecretNumber = game_start(difficulty)\n",
    "#current_guess = 0\n",
    "#print(SecretNumber)"
   ]
  },
  {
   "cell_type": "code",
   "execution_count": 44,
   "metadata": {},
   "outputs": [],
   "source": [
    "#def single_guess(SecretNumber):\n",
    "    \n",
    "  #  guess = int(input('Please take a guess at my number: '))\n",
    "    \n",
    "    #while guess != SecretNumber:\n",
    "     #   if guess > SecretNumber:\n",
    "      #      print('You are too high.')\n",
    "       #     return guess\n",
    "            \n",
    "        #elif guess < SecretNumber:\n",
    "          #  print('You are too low.')\n",
    "         #   return guess \n",
    "               \n",
    "    #print('Hit.')\n",
    "    #return guess"
   ]
  },
  {
   "cell_type": "code",
   "execution_count": 6,
   "metadata": {},
   "outputs": [
    {
     "ename": "NameError",
     "evalue": "name 'single_guess' is not defined",
     "output_type": "error",
     "traceback": [
      "\u001b[0;31m---------------------------------------------------------------------------\u001b[0m",
      "\u001b[0;31mNameError\u001b[0m                                 Traceback (most recent call last)",
      "\u001b[0;32m<ipython-input-6-b6830a7486ab>\u001b[0m in \u001b[0;36m<module>\u001b[0;34m\u001b[0m\n\u001b[1;32m      1\u001b[0m \u001b[0;31m#definir previous attempts\u001b[0m\u001b[0;34m\u001b[0m\u001b[0;34m\u001b[0m\u001b[0;34m\u001b[0m\u001b[0m\n\u001b[0;32m----> 2\u001b[0;31m \u001b[0mprevious_guess\u001b[0m \u001b[0;34m=\u001b[0m \u001b[0msingle_guess\u001b[0m\u001b[0;34m(\u001b[0m\u001b[0;34m)\u001b[0m\u001b[0;34m\u001b[0m\u001b[0;34m\u001b[0m\u001b[0m\n\u001b[0m\u001b[1;32m      3\u001b[0m \u001b[0mprevious_guess_list\u001b[0m \u001b[0;34m=\u001b[0m \u001b[0;34m[\u001b[0m\u001b[0;34m]\u001b[0m\u001b[0;34m\u001b[0m\u001b[0;34m\u001b[0m\u001b[0m\n\u001b[1;32m      4\u001b[0m \u001b[0;32mdef\u001b[0m \u001b[0mpreviously\u001b[0m\u001b[0;34m(\u001b[0m\u001b[0mprevious_guess\u001b[0m\u001b[0;34m)\u001b[0m\u001b[0;34m:\u001b[0m\u001b[0;34m\u001b[0m\u001b[0;34m\u001b[0m\u001b[0m\n\u001b[1;32m      5\u001b[0m     \u001b[0mprevious_guess_list\u001b[0m\u001b[0;34m.\u001b[0m\u001b[0mappend\u001b[0m\u001b[0;34m(\u001b[0m\u001b[0mprevious_guess\u001b[0m\u001b[0;34m)\u001b[0m\u001b[0;34m\u001b[0m\u001b[0;34m\u001b[0m\u001b[0m\n",
      "\u001b[0;31mNameError\u001b[0m: name 'single_guess' is not defined"
     ]
    }
   ],
   "source": [
    "#definir previous attempts\n",
    "previous_guess = single_guess()\n",
    "previous_guess_list = []\n",
    "def previously(previous_guess):\n",
    "    previous_guess_list.append(previous_guess)\n",
    "    \n",
    "attempts = previously(previous_guess)"
   ]
  },
  {
   "cell_type": "code",
   "execution_count": 17,
   "metadata": {
    "scrolled": true
   },
   "outputs": [
    {
     "ename": "NameError",
     "evalue": "name 'previous_guess_list' is not defined",
     "output_type": "error",
     "traceback": [
      "\u001b[0;31m---------------------------------------------------------------------------\u001b[0m",
      "\u001b[0;31mNameError\u001b[0m                                 Traceback (most recent call last)",
      "\u001b[0;32m<ipython-input-17-3703458300e7>\u001b[0m in \u001b[0;36m<module>\u001b[0;34m\u001b[0m\n\u001b[0;32m----> 1\u001b[0;31m \u001b[0mprint\u001b[0m\u001b[0;34m(\u001b[0m\u001b[0mprevious_guess_list\u001b[0m\u001b[0;34m)\u001b[0m\u001b[0;34m\u001b[0m\u001b[0;34m\u001b[0m\u001b[0m\n\u001b[0m",
      "\u001b[0;31mNameError\u001b[0m: name 'previous_guess_list' is not defined"
     ]
    }
   ],
   "source": [
    "print(previous_guess_list)"
   ]
  },
  {
   "cell_type": "code",
   "execution_count": 12,
   "metadata": {},
   "outputs": [
    {
     "ename": "SyntaxError",
     "evalue": "invalid syntax (<ipython-input-12-e9227271b485>, line 3)",
     "output_type": "error",
     "traceback": [
      "\u001b[0;36m  File \u001b[0;32m\"<ipython-input-12-e9227271b485>\"\u001b[0;36m, line \u001b[0;32m3\u001b[0m\n\u001b[0;31m    def guess_loop()\u001b[0m\n\u001b[0m                    ^\u001b[0m\n\u001b[0;31mSyntaxError\u001b[0m\u001b[0;31m:\u001b[0m invalid syntax\n"
     ]
    }
   ],
   "source": [
    "#define guess loop if the first one is wrong\n",
    "\n",
    "#def guess_loop()\n",
    "   # guess = int(input('Please take a new guess at my number: '))\n",
    "    \n",
    "        \n"
   ]
  },
  {
   "cell_type": "code",
   "execution_count": 53,
   "metadata": {},
   "outputs": [],
   "source": [
    "#define ending function, confirming results, giving score (number of attempts)\n",
    "#def ending(secret_number, previous_guest_list):\n",
    "   # if secret_number in previous_guess_list:\n",
    "        #print('Wow, how unexpected!' + '\\n' + 'You did find my number which was ' + str(SecretNumber) + ' in ' + str(current_guess) + ' attempts.')\n",
    "      #  print(f'Wow, how unexpected! \\\n",
    "      #  You did find my number which was {secret_number} in {current_guess} attempts.')\n",
    "        \n",
    "   # else:\n",
    "      #  print('As expected, you were not fit for this task.' + '\\n' \n",
    "      #        + 'My number was ' + str(secret_number) \n",
    "       #       + ' but you are out of your ' + str(current_guess) + ' attempts allowed')\n",
    "        #bad_ending = f'As expected, you were not fit for this task.' + '\\n' + 'My number was {SecretNumber} but you are out of your {guesses_allowed} attempts allowed'\n",
    "    "
   ]
  },
  {
   "cell_type": "code",
   "execution_count": null,
   "metadata": {},
   "outputs": [],
   "source": [
    " #good_ending = "
   ]
  },
  {
   "cell_type": "code",
   "execution_count": 14,
   "metadata": {},
   "outputs": [
    {
     "name": "stdout",
     "output_type": "stream",
     "text": [
      "As expected, you were not fit for this task.\n",
      "My number was 8 but you are out of your 0 attempts allowed\n"
     ]
    }
   ],
   "source": [
    "results = ending()"
   ]
  },
  {
   "cell_type": "code",
   "execution_count": 7,
   "metadata": {},
   "outputs": [],
   "source": [
    "#define restart\n",
    "    #with/without changing name\n",
    "    #with/without changing difficulty\n",
    "\n",
    "def restart():\n",
    "    new_game = input('Want to give the trial another shot? (y/n)')\n",
    "    if new_game == 'n':\n",
    "        print(f'Goodbye {username}')\n",
    "        pass\n",
    "    if new_game == 'y':\n",
    "        keep_username = input('Keep your username? (y/n)')\n",
    "        if keep_username == 'n':\n",
    "            welcome_prompt()\n",
    "        elif keep_username == 'y':\n",
    "            return difficulty\n",
    "        else:\n",
    "            raise SyntaxError('Input should be \"y\" or \"n\"')"
   ]
  },
  {
   "cell_type": "code",
   "execution_count": 58,
   "metadata": {},
   "outputs": [],
   "source": [
    "def single_guess(SecretNumber):\n",
    "    while True:\n",
    "        try:\n",
    "            guess = int(input('Please take a guess at my number: '))\n",
    "            while True:\n",
    "                try guess in \n",
    "            break\n",
    "            \n",
    "        except ValueError:\n",
    "            print('Type a number.')\n",
    "                    \n",
    "    \n",
    "    if guess != SecretNumber:\n",
    "        if guess > SecretNumber:\n",
    "            print('You are too high.')\n",
    "            return guess\n",
    "            \n",
    "        elif guess < SecretNumber:\n",
    "            print('You are too low.')\n",
    "            return guess \n",
    "               \n",
    "    else:\n",
    "        print('Hit.')\n",
    "        return guess"
   ]
  },
  {
   "cell_type": "code",
   "execution_count": 8,
   "metadata": {},
   "outputs": [
    {
     "ename": "NameError",
     "evalue": "name 'difficulty' is not defined",
     "output_type": "error",
     "traceback": [
      "\u001b[0;31m---------------------------------------------------------------------------\u001b[0m",
      "\u001b[0;31mNameError\u001b[0m                                 Traceback (most recent call last)",
      "\u001b[0;32m<ipython-input-8-3bef094a8a36>\u001b[0m in \u001b[0;36m<module>\u001b[0;34m\u001b[0m\n\u001b[0;32m----> 1\u001b[0;31m \u001b[0mSecretNumber\u001b[0m \u001b[0;34m=\u001b[0m \u001b[0mgame_start\u001b[0m\u001b[0;34m(\u001b[0m\u001b[0mdifficulty\u001b[0m\u001b[0;34m)\u001b[0m\u001b[0;34m\u001b[0m\u001b[0;34m\u001b[0m\u001b[0m\n\u001b[0m\u001b[1;32m      2\u001b[0m \u001b[0mcurrent_guess\u001b[0m \u001b[0;34m=\u001b[0m \u001b[0;36m0\u001b[0m\u001b[0;34m\u001b[0m\u001b[0;34m\u001b[0m\u001b[0m\n\u001b[1;32m      3\u001b[0m \u001b[0mprint\u001b[0m\u001b[0;34m(\u001b[0m\u001b[0mSecretNumber\u001b[0m\u001b[0;34m)\u001b[0m\u001b[0;34m\u001b[0m\u001b[0;34m\u001b[0m\u001b[0m\n",
      "\u001b[0;31mNameError\u001b[0m: name 'difficulty' is not defined"
     ]
    }
   ],
   "source": [
    "SecretNumber = game_start(difficulty)\n",
    "current_guess = 0\n",
    "print(SecretNumber)"
   ]
  },
  {
   "cell_type": "code",
   "execution_count": 18,
   "metadata": {},
   "outputs": [],
   "source": [
    "# game execution\n",
    "def game():\n",
    "    \n",
    "    username = welcome_prompt()\n",
    "    \n",
    "    while True:\n",
    "    \n",
    "        difficulty = player_difficulty()\n",
    "        guesses_allowed = guesses_initialization(difficulty)\n",
    "        secret_number = game_start(difficulty)\n",
    "        current_guess = 0\n",
    "        previous_guess_list = []\n",
    "\n",
    "        while current_guess < guesses_allowed:\n",
    "            if secret_number in previous_guess_list:\n",
    "                print(f'Wow, how unexpected! \\\n",
    "                        You did find my number which was {secret_number} in {current_guess} attempts.')\n",
    "                break\n",
    "                \n",
    "            current_guess += 1\n",
    "            previous_guess = single_guess(secret_number)\n",
    "            print('previous guess' , previous_guess)\n",
    "            print(secret_number , 'secret number')\n",
    "            previous_guess_list.append(previous_guess)\n",
    "            print(previous_guess_list)\n",
    "\n",
    "        if secret_number not in previous_guess_list:\n",
    "            print('As expected, you were not fit for this task.' + '\\n' \n",
    "                  + 'My number was ' + str(secret_number) \n",
    "                  + ' but you are out of your ' + str(current_guess) + ' attempts allowed')\n",
    "        \n",
    "        new_game = input('Want to give the trial another shot? (y/n)')\n",
    "        \n",
    "        while new_game.lower() not in ('y', 'n'):\n",
    "            print ('Input should be \"y\" or \"n\"')\n",
    "            new_game = input('Want to give the trial another shot? (y/n)')\n",
    "            \n",
    "        if new_game == 'n':\n",
    "            print(f'Goodbye {username}.')\n",
    "            break\n",
    "\n",
    "        if new_game == 'y':\n",
    "            keep_username = input('Keep your username? (y/n)')\n",
    "            \n",
    "            while keep_username.lower() not in ('y', 'n'):\n",
    "                print ('Input should be \"y\" or \"n\"')\n",
    "                \n",
    "                keep_username = input('Want to keep username? (y/n)')\n",
    "\n",
    "            if keep_username == 'n':\n",
    "                welcome_prompt()\n",
    "          \n",
    "\n",
    "    \n",
    "\n",
    "#playagain = restart()"
   ]
  },
  {
   "cell_type": "code",
   "execution_count": 19,
   "metadata": {},
   "outputs": [
    {
     "name": "stdout",
     "output_type": "stream",
     "text": [
      "\u001b[1m/__GUESS THE NUMBER__/\u001b[0m a Maël wonky game\n",
      "Oh! Hello?\n",
      "You just stumbled on a secret projekkt and you might have the unprecedented opportunity to be my test subject.\n",
      "First, I will need the name you would like to be refered to : mael\n",
      "Difficulty selection.\n",
      "What will be your challenge?\n",
      "    Smooth : number between -11 and 13, 5 attempts to find the answer.\n",
      "    Standard : number between -106 and 99, 7 attempts\n",
      "    Experienced : number between -877 and 1173, 10 attempts. smooth\n",
      "The secret number is somewhere in between -11 and 13.\n"
     ]
    },
    {
     "ename": "UnboundLocalError",
     "evalue": "local variable 'inputrange' referenced before assignment",
     "output_type": "error",
     "traceback": [
      "\u001b[0;31m---------------------------------------------------------------------------\u001b[0m",
      "\u001b[0;31mUnboundLocalError\u001b[0m                         Traceback (most recent call last)",
      "\u001b[0;32m<ipython-input-19-4a8413945148>\u001b[0m in \u001b[0;36m<module>\u001b[0;34m\u001b[0m\n\u001b[0;32m----> 1\u001b[0;31m \u001b[0mgame\u001b[0m\u001b[0;34m(\u001b[0m\u001b[0;34m)\u001b[0m\u001b[0;34m\u001b[0m\u001b[0;34m\u001b[0m\u001b[0m\n\u001b[0m",
      "\u001b[0;32m<ipython-input-18-13f22205f34f>\u001b[0m in \u001b[0;36mgame\u001b[0;34m()\u001b[0m\n\u001b[1;32m      8\u001b[0m         \u001b[0mdifficulty\u001b[0m \u001b[0;34m=\u001b[0m \u001b[0mplayer_difficulty\u001b[0m\u001b[0;34m(\u001b[0m\u001b[0;34m)\u001b[0m\u001b[0;34m\u001b[0m\u001b[0;34m\u001b[0m\u001b[0m\n\u001b[1;32m      9\u001b[0m         \u001b[0mguesses_allowed\u001b[0m \u001b[0;34m=\u001b[0m \u001b[0mguesses_initialization\u001b[0m\u001b[0;34m(\u001b[0m\u001b[0mdifficulty\u001b[0m\u001b[0;34m)\u001b[0m\u001b[0;34m\u001b[0m\u001b[0;34m\u001b[0m\u001b[0m\n\u001b[0;32m---> 10\u001b[0;31m         \u001b[0msecret_number\u001b[0m \u001b[0;34m=\u001b[0m \u001b[0mgame_start\u001b[0m\u001b[0;34m(\u001b[0m\u001b[0mdifficulty\u001b[0m\u001b[0;34m)\u001b[0m\u001b[0;34m\u001b[0m\u001b[0;34m\u001b[0m\u001b[0m\n\u001b[0m\u001b[1;32m     11\u001b[0m         \u001b[0mcurrent_guess\u001b[0m \u001b[0;34m=\u001b[0m \u001b[0;36m0\u001b[0m\u001b[0;34m\u001b[0m\u001b[0;34m\u001b[0m\u001b[0m\n\u001b[1;32m     12\u001b[0m         \u001b[0mprevious_guess_list\u001b[0m \u001b[0;34m=\u001b[0m \u001b[0;34m[\u001b[0m\u001b[0;34m]\u001b[0m\u001b[0;34m\u001b[0m\u001b[0;34m\u001b[0m\u001b[0m\n",
      "\u001b[0;32m<ipython-input-5-4dc5a67b1ef8>\u001b[0m in \u001b[0;36mgame_start\u001b[0;34m(difficulty)\u001b[0m\n\u001b[1;32m     15\u001b[0m         \u001b[0mprint\u001b[0m\u001b[0;34m(\u001b[0m\u001b[0;34m'The secret number is somewhere in between -877 and 1173.'\u001b[0m\u001b[0;34m)\u001b[0m\u001b[0;34m\u001b[0m\u001b[0;34m\u001b[0m\u001b[0m\n\u001b[1;32m     16\u001b[0m \u001b[0;34m\u001b[0m\u001b[0m\n\u001b[0;32m---> 17\u001b[0;31m     \u001b[0;32mreturn\u001b[0m \u001b[0mnumber\u001b[0m\u001b[0;34m,\u001b[0m \u001b[0minputrange\u001b[0m\u001b[0;34m\u001b[0m\u001b[0;34m\u001b[0m\u001b[0m\n\u001b[0m",
      "\u001b[0;31mUnboundLocalError\u001b[0m: local variable 'inputrange' referenced before assignment"
     ]
    }
   ],
   "source": [
    "game()"
   ]
  },
  {
   "cell_type": "code",
   "execution_count": null,
   "metadata": {},
   "outputs": [],
   "source": [
    "print(previous_guess_list)"
   ]
  },
  {
   "cell_type": "code",
   "execution_count": null,
   "metadata": {},
   "outputs": [],
   "source": [
    "guess = single_guess()"
   ]
  },
  {
   "cell_type": "code",
   "execution_count": null,
   "metadata": {},
   "outputs": [],
   "source": []
  },
  {
   "cell_type": "code",
   "execution_count": null,
   "metadata": {},
   "outputs": [],
   "source": [
    "#print('You guessed right.')\n",
    "#print(player_guess, ' is overshooting the number.')\n",
    "#print(player_guess, ' is undershooting the number')"
   ]
  },
  {
   "cell_type": "code",
   "execution_count": null,
   "metadata": {},
   "outputs": [],
   "source": []
  },
  {
   "cell_type": "code",
   "execution_count": null,
   "metadata": {},
   "outputs": [],
   "source": [
    "current_guess += 1\n",
    "            guess = int(input('Please take a new guess at my number: '))\n",
    "            continue\n",
    "        \n",
    "        "
   ]
  },
  {
   "cell_type": "code",
   "execution_count": null,
   "metadata": {},
   "outputs": [],
   "source": [
    "   current_guess += 1\n",
    "            guess = int(input('Please take a  new guess at my number: '))\n",
    "            continue"
   ]
  },
  {
   "cell_type": "code",
   "execution_count": null,
   "metadata": {},
   "outputs": [],
   "source": [
    "# if everything else OK -> build a scoring dictionnary"
   ]
  },
  {
   "cell_type": "code",
   "execution_count": null,
   "metadata": {},
   "outputs": [],
   "source": []
  }
 ],
 "metadata": {
  "kernelspec": {
   "display_name": "Python 3",
   "language": "python",
   "name": "python3"
  },
  "language_info": {
   "codemirror_mode": {
    "name": "ipython",
    "version": 3
   },
   "file_extension": ".py",
   "mimetype": "text/x-python",
   "name": "python",
   "nbconvert_exporter": "python",
   "pygments_lexer": "ipython3",
   "version": "3.7.7"
  }
 },
 "nbformat": 4,
 "nbformat_minor": 4
}
