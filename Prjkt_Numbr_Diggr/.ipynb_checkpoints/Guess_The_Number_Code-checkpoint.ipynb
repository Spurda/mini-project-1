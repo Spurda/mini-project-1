{
 "cells": [
  {
   "cell_type": "code",
   "execution_count": 1,
   "metadata": {},
   "outputs": [],
   "source": [
    "#import random, to be used later by the cpu\n",
    "import random"
   ]
  },
  {
   "cell_type": "markdown",
   "metadata": {},
   "source": [
    "## Version Standard"
   ]
  },
  {
   "cell_type": "code",
   "execution_count": null,
   "metadata": {},
   "outputs": [],
   "source": [
    "def first():\n",
    "    \n",
    "    number = int(input('Hello PlayeR' \n",
    "                       + '\\n'\n",
    "                       + 'I was wandering in a street of 1000 houses, numbered from 1 to 1000.'\n",
    "                       + '\\n'\n",
    "                       + 'I stopped somewhere, waiting for you to find me.'\n",
    "                       + '\\n'\n",
    "                       + 'Which number to you think I am at? ' ))\n",
    "    main_loop(number)"
   ]
  },
  {
   "cell_type": "code",
   "execution_count": null,
   "metadata": {},
   "outputs": [],
   "source": [
    "def main_loop(number1):\n",
    "    SecretNumber = random.randint(1,10)\n",
    "    answer = False\n",
    "    while not answer :\n",
    "        if number1 > SecretNumber :\n",
    "            print('You overshoot, I saw you pass by.')       \n",
    "        elif number1 < SecretNumber :\n",
    "            print('You undershoot, no one passed in front of me')\n",
    "            print('')    \n",
    "        elif number1 == SecretNumber :\n",
    "            break\n",
    "                  \n",
    "        number1 = int(input('Try again. What number I am at? '))\n",
    "    \n",
    "    if number1 == SecretNumber :\n",
    "        NewGame = input('I knew you could do it!' + ' ' + str(SecretNumber) + ' was the spot.'\n",
    "                                  + '\\n'\n",
    "                                  + 'Wanna play again(y/n)?')\n",
    "        if NewGame == 'y':\n",
    "            first()"
   ]
  },
  {
   "cell_type": "code",
   "execution_count": null,
   "metadata": {},
   "outputs": [],
   "source": [
    "first()"
   ]
  },
  {
   "cell_type": "markdown",
   "metadata": {},
   "source": [
    "## Version + Élaborée"
   ]
  },
  {
   "cell_type": "markdown",
   "metadata": {},
   "source": [
    "Adding Name Request for scoring purpose / Add difficulty and max guesses / scoring : if not found > 99999"
   ]
  },
  {
   "cell_type": "code",
   "execution_count": 2,
   "metadata": {},
   "outputs": [],
   "source": [
    "#define \"splash screen\"\n",
    "    \n",
    "def welcome_prompt():\n",
    "    print('\\033[1m' + '/__GUESS THE NUMBER__/' + '\\033[0m' + ' a Maël wonky game'\n",
    "          + '\\n'\n",
    "          + 'Oh! Hello?'\n",
    "          + '\\n'\n",
    "          + 'You just stumbled on a secret projekkt and you might have the unprecedented opportunity to be my test subject.')\n",
    "    player_name = (input('First, I will need the name you would like to be refered to : '))\n",
    "    \n",
    "    return player_name\n",
    "\n",
    "#welcome_prompt()\n",
    "    \n"
   ]
  },
  {
   "cell_type": "code",
   "execution_count": 4,
   "metadata": {},
   "outputs": [
    {
     "name": "stdout",
     "output_type": "stream",
     "text": [
      "\u001b[1m/__GUESS THE NUMBER__/\u001b[0m a Maël wonky game\n",
      "Oh! Hello?\n",
      "You just stumbled on a secret projekkt and you might have the unprecedented opportunity to be my test subject.\n",
      "First, I will need the name you would like to be refered to : tom\n"
     ]
    }
   ],
   "source": [
    "username = welcome_prompt()"
   ]
  },
  {
   "cell_type": "code",
   "execution_count": 3,
   "metadata": {},
   "outputs": [],
   "source": [
    "#def difficulty(setting)\n",
    "\n",
    "difficulty_and_guesses = {'smooth' : 5, 'standard' : 7, 'experienced' : 10, 'unfathomable' : 14}\n",
    "\n",
    "def player_difficulty():\n",
    "    difficulty_choice = (input('Difficulty selection.'\n",
    "                        + '\\n'\n",
    "                        + 'What will be your challenge?' \n",
    "                        + '\\n' \n",
    "                        + '    Smooth : number between -11 and 13, 5 attempts to find the answer.'\n",
    "                        + '\\n'\n",
    "                        + '    Standard : number between -106 and 99, 7 attempts'\n",
    "                        + '\\n'\n",
    "                        + '    Experienced : number between -877 and 1173, 10 attempts. ')).lower()\n",
    "    while difficulty_choice not in difficulty_and_guesses :\n",
    "    #try:\n",
    "            #difficulty_choice in difficulty_and_guesses\n",
    "            \n",
    "    #except:\n",
    "        difficulty_choice =  (input('\\n'\n",
    "                            + 'You probably mispelled your difficulty :/, . What will be your challenge?' \n",
    "                            + '\\n' \n",
    "                            + '    Smooth : number between -11 and 13, 5 attempts to find the answer.'\n",
    "                            + '\\n'\n",
    "                            + '    Standard : number between -106 and 99, 7 attempts'\n",
    "                            + '\\n'\n",
    "                            + '    Experienced : number between -877 and 1173, 10 attempts. ')).lower()  \n",
    "\n",
    "    return difficulty_choice"
   ]
  },
  {
   "cell_type": "code",
   "execution_count": null,
   "metadata": {},
   "outputs": [],
   "source": [
    "#test\n",
    "#player_difficulty()\n"
   ]
  },
  {
   "cell_type": "code",
   "execution_count": 5,
   "metadata": {},
   "outputs": [
    {
     "name": "stdout",
     "output_type": "stream",
     "text": [
      "Difficulty selection.\n",
      "What will be your challenge?\n",
      "    Smooth : number between -11 and 13, 5 attempts to find the answer.\n",
      "    Standard : number between -106 and 99, 7 attempts\n",
      "    Experienced : number between -877 and 1173, 10 attempts. smooth\n"
     ]
    }
   ],
   "source": [
    "difficulty = player_difficulty()"
   ]
  },
  {
   "cell_type": "code",
   "execution_count": 6,
   "metadata": {},
   "outputs": [
    {
     "name": "stdout",
     "output_type": "stream",
     "text": [
      "5\n"
     ]
    }
   ],
   "source": [
    "# Initialisation du nombre de guesses \n",
    "\n",
    "def guesses_initialization(difficulty):    \n",
    "    return difficulty_and_guesses.get(difficulty)\n",
    "\n",
    "guesses_allowed = guesses_initialization(difficulty)    \n",
    "\n",
    "print(guesses_allowed)"
   ]
  },
  {
   "cell_type": "code",
   "execution_count": null,
   "metadata": {},
   "outputs": [],
   "source": [
    "# [key for (key, value) in difficulty_and_guesses.items() if value == difficulty]"
   ]
  },
  {
   "cell_type": "code",
   "execution_count": 7,
   "metadata": {},
   "outputs": [],
   "source": [
    "#definir le nombre choisi par l'ordinateur pour la difficulté \n",
    "def game_start(difficulty):\n",
    "    if difficulty == 'smooth' :\n",
    "        Number = random.randint(-11,13)\n",
    "        print('The secret number is somewhere in between -11 and 13.')\n",
    "    \n",
    "    elif difficulty == 'standard' :\n",
    "        Number = random.randint(-106,99)\n",
    "        print('The secret number is somewhere in between -106 and 99.')\n",
    "    \n",
    "    elif difficulty == 'experienced' :\n",
    "        Number = random.randint(-877,1173)\n",
    "        print('The secret number is somewhere in between -877 and 1173.')\n",
    "    \n",
    "    return Number"
   ]
  },
  {
   "cell_type": "code",
   "execution_count": 8,
   "metadata": {},
   "outputs": [
    {
     "name": "stdout",
     "output_type": "stream",
     "text": [
      "The secret number is somewhere in between -11 and 13.\n"
     ]
    },
    {
     "data": {
      "text/plain": [
       "8"
      ]
     },
     "execution_count": 8,
     "metadata": {},
     "output_type": "execute_result"
    }
   ],
   "source": [
    "game_start(difficulty)"
   ]
  },
  {
   "cell_type": "code",
   "execution_count": 9,
   "metadata": {},
   "outputs": [
    {
     "name": "stdout",
     "output_type": "stream",
     "text": [
      "The secret number is somewhere in between -11 and 13.\n",
      "-8\n"
     ]
    }
   ],
   "source": [
    "SecretNumber = game_start(difficulty)\n",
    "current_guess = 0\n",
    "print(SecretNumber)"
   ]
  },
  {
   "cell_type": "code",
   "execution_count": 10,
   "metadata": {},
   "outputs": [],
   "source": [
    "def single_guess():\n",
    "    \n",
    "    guess = int(input('Please take a guess at my number: '))\n",
    "    \n",
    "    while guess != SecretNumber:\n",
    "        if guess > SecretNumber:\n",
    "            print('You are too high.')\n",
    "            return guess\n",
    "            \n",
    "        elif guess < SecretNumber:\n",
    "            print('You are too low.')\n",
    "            return guess \n",
    "            \n",
    "    while guess == SecretNumber:\n",
    "        print('Hit.')\n",
    "        return guess"
   ]
  },
  {
   "cell_type": "code",
   "execution_count": 11,
   "metadata": {},
   "outputs": [
    {
     "name": "stdout",
     "output_type": "stream",
     "text": [
      "Please take a guess at my number: 1\n",
      "You are too high.\n"
     ]
    },
    {
     "data": {
      "text/plain": [
       "1"
      ]
     },
     "execution_count": 11,
     "metadata": {},
     "output_type": "execute_result"
    }
   ],
   "source": [
    "single_guess()"
   ]
  },
  {
   "cell_type": "code",
   "execution_count": 12,
   "metadata": {},
   "outputs": [
    {
     "name": "stdout",
     "output_type": "stream",
     "text": [
      "Please take a guess at my number: 10\n",
      "You are too high.\n"
     ]
    }
   ],
   "source": [
    "#definir previous attempts\n",
    "previous_guess = single_guess()\n",
    "previous_guess_list = []\n",
    "def previously(previous_guess):\n",
    "    previous_guess_list.append(previous_guess)\n",
    "    \n",
    "attempts = previously(previous_guess)"
   ]
  },
  {
   "cell_type": "code",
   "execution_count": null,
   "metadata": {
    "scrolled": true
   },
   "outputs": [],
   "source": [
    "print(previous_guess_list)"
   ]
  },
  {
   "cell_type": "code",
   "execution_count": null,
   "metadata": {},
   "outputs": [],
   "source": [
    "#define guess loop if the first one is wrong\n",
    "\n",
    "def guess_loop()\n",
    "    guess = int(input('Please take a new guess at my number: '))\n",
    "    \n",
    "        \n"
   ]
  },
  {
   "cell_type": "code",
   "execution_count": 25,
   "metadata": {},
   "outputs": [],
   "source": [
    "#define ending function, confirming results, giving score (number of attempts)\n",
    "def ending():\n",
    "    if SecretNumber in previous_guess_list:\n",
    "        print('Wow, how unexpected!' + '\\n' + 'You did find my number which was ' + str(SecretNumber) + ' in ' + str(guesses_allowed) + ' attempts.')\n",
    "        #good_ending = f'Wow, how unexpected! You did find my number which was {SecretNumber} in {current_guess} attempts.'\n",
    "        return restart()\n",
    "    else:\n",
    "        print('As expected, you were not fit for this task.' + '\\n' + 'My number was ' + str(SecretNumber) + ' but you are out of your ' + str(guesses_allowed) + ' attempts allowed')\n",
    "        #bad_ending = f'As expected, you were not fit for this task.' + '\\n' + 'My number was {SecretNumber} but you are out of your {guesses_allowed} attempts allowed'\n",
    "        return restart()\n",
    "    "
   ]
  },
  {
   "cell_type": "code",
   "execution_count": 16,
   "metadata": {},
   "outputs": [
    {
     "name": "stdout",
     "output_type": "stream",
     "text": [
      "As expected, you were not fit for this task.\n",
      "My number was {SecretNumber} but you are out of your {guesses_allowed} attempts allowed\n"
     ]
    }
   ],
   "source": [
    "results = ending()"
   ]
  },
  {
   "cell_type": "code",
   "execution_count": 33,
   "metadata": {},
   "outputs": [],
   "source": [
    "#define restart\n",
    "    #with/without changing name\n",
    "    #with/without changing difficulty\n",
    "\n",
    "def restart():\n",
    "    new_game = input('Want to give the trial another shot? (y/n)')\n",
    "    while new_game == 'n':\n",
    "        break\n",
    "    while new_game == 'y':\n",
    "        keep_username = input('Keep your username? (y/n)')\n",
    "        if keep_username == 'n':\n",
    "            return username \n",
    "        elif keep_username == 'y':\n",
    "            return difficulty\n",
    "        else:\n",
    "            raise SyntaxError('Input should be \"y\" or \"n\"')"
   ]
  },
  {
   "cell_type": "code",
   "execution_count": 34,
   "metadata": {},
   "outputs": [
    {
     "name": "stdout",
     "output_type": "stream",
     "text": [
      "\u001b[1m/__GUESS THE NUMBER__/\u001b[0m a Maël wonky game\n",
      "Oh! Hello?\n",
      "You just stumbled on a secret projekkt and you might have the unprecedented opportunity to be my test subject.\n",
      "First, I will need the name you would like to be refered to : toù\n",
      "Difficulty selection.\n",
      "What will be your challenge?\n",
      "    Smooth : number between -11 and 13, 5 attempts to find the answer.\n",
      "    Standard : number between -106 and 99, 7 attempts\n",
      "    Experienced : number between -877 and 1173, 10 attempts. smooth\n",
      "The secret number is somewhere in between -11 and 13.\n",
      "Please take a guess at my number: 1\n",
      "You are too low.\n",
      "[1]\n",
      "Please take a guess at my number: 7\n",
      "You are too high.\n",
      "[1, 7]\n",
      "Please take a guess at my number: 4\n",
      "You are too low.\n",
      "[1, 7, 4]\n",
      "Please take a guess at my number: 6\n",
      "You are too high.\n",
      "[1, 7, 4, 6]\n",
      "Please take a guess at my number: 5\n",
      "Hit.\n",
      "[1, 7, 4, 6, 5]\n",
      "Wow, how unexpected!\n",
      "You did find my number which was 5 in 5 attempts.\n",
      "Want to give the trial another shot? (y/n)y\n",
      "Keep your username? (y/n)y\n"
     ]
    }
   ],
   "source": [
    "# game execution\n",
    "\n",
    "username = welcome_prompt()\n",
    "difficulty = player_difficulty()\n",
    "guesses_allowed = guesses_initialization(difficulty)\n",
    "SecretNumber = game_start(difficulty)\n",
    "current_guess = 0\n",
    "previous_guess_list = []\n",
    "\n",
    "while current_guess < guesses_allowed and SecretNumber not in previous_guess_list:\n",
    "    current_guess += 1\n",
    "    previous_guess = single_guess()\n",
    "    attempts = previously(previous_guess)\n",
    "    print(previous_guess_list)\n",
    "       \n",
    "results = ending()\n",
    "    \n",
    "\n",
    "    \n",
    "\n",
    "#playagain = restart()"
   ]
  },
  {
   "cell_type": "code",
   "execution_count": null,
   "metadata": {},
   "outputs": [],
   "source": [
    "print(previous_guess_list)"
   ]
  },
  {
   "cell_type": "code",
   "execution_count": null,
   "metadata": {},
   "outputs": [],
   "source": [
    "guess = single_guess()"
   ]
  },
  {
   "cell_type": "code",
   "execution_count": null,
   "metadata": {},
   "outputs": [],
   "source": []
  },
  {
   "cell_type": "code",
   "execution_count": null,
   "metadata": {},
   "outputs": [],
   "source": [
    "#print('You guessed right.')\n",
    "#print(player_guess, ' is overshooting the number.')\n",
    "#print(player_guess, ' is undershooting the number')"
   ]
  },
  {
   "cell_type": "code",
   "execution_count": null,
   "metadata": {},
   "outputs": [],
   "source": []
  },
  {
   "cell_type": "code",
   "execution_count": null,
   "metadata": {},
   "outputs": [],
   "source": [
    "current_guess += 1\n",
    "            guess = int(input('Please take a new guess at my number: '))\n",
    "            continue\n",
    "        \n",
    "        "
   ]
  },
  {
   "cell_type": "code",
   "execution_count": null,
   "metadata": {},
   "outputs": [],
   "source": [
    "   current_guess += 1\n",
    "            guess = int(input('Please take a  new guess at my number: '))\n",
    "            continue"
   ]
  },
  {
   "cell_type": "code",
   "execution_count": null,
   "metadata": {},
   "outputs": [],
   "source": [
    "# if everything else OK -> build a scoring dictionnary"
   ]
  },
  {
   "cell_type": "code",
   "execution_count": null,
   "metadata": {},
   "outputs": [],
   "source": []
  }
 ],
 "metadata": {
  "kernelspec": {
   "display_name": "Python 3",
   "language": "python",
   "name": "python3"
  },
  "language_info": {
   "codemirror_mode": {
    "name": "ipython",
    "version": 3
   },
   "file_extension": ".py",
   "mimetype": "text/x-python",
   "name": "python",
   "nbconvert_exporter": "python",
   "pygments_lexer": "ipython3",
   "version": "3.8.3"
  }
 },
 "nbformat": 4,
 "nbformat_minor": 4
}
