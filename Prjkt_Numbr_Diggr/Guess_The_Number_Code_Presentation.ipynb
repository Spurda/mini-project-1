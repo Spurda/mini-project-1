{
 "cells": [
  {
   "cell_type": "code",
   "execution_count": 1,
   "metadata": {},
   "outputs": [],
   "source": [
    "#import random, to be used later by the cpu\n",
    "import random"
   ]
  },
  {
   "cell_type": "markdown",
   "metadata": {},
   "source": [
    "## Version Standard"
   ]
  },
  {
   "cell_type": "code",
   "execution_count": null,
   "metadata": {},
   "outputs": [],
   "source": [
    "def first():   \n",
    "    number = int(input('Hello PlayeR' \n",
    "                       + '\\n'\n",
    "                       + 'I was wandering in a street of 1000 houses, numbered from 1 to 1000.'\n",
    "                       + '\\n'\n",
    "                       + 'I stopped somewhere, waiting for you to find me.'\n",
    "                       + '\\n'\n",
    "                       + 'Which number to you think I am at? ' ))\n",
    "    main_loop(number)"
   ]
  },
  {
   "cell_type": "code",
   "execution_count": null,
   "metadata": {},
   "outputs": [],
   "source": [
    "def main_loop(number1):\n",
    "    SecretNumber = random.randint(1,10)\n",
    "    answer = False\n",
    "    while not answer :\n",
    "        if number1 > SecretNumber :\n",
    "            print('You overshoot, I saw you pass by.')       \n",
    "        elif number1 < SecretNumber :\n",
    "            print('You undershoot, no one passed in front of me')\n",
    "            print('')    \n",
    "        elif number1 == SecretNumber :\n",
    "            break\n",
    "                  \n",
    "        number1 = int(input('Try again. What number I am at? '))\n",
    "    \n",
    "    if number1 == SecretNumber :\n",
    "        NewGame = input('I knew you could do it!' + ' ' + str(SecretNumber) + ' was the spot.'\n",
    "                                  + '\\n'\n",
    "                                  + 'Wanna play again(y/n)?')\n",
    "        if NewGame == 'y':\n",
    "            first()"
   ]
  },
  {
   "cell_type": "code",
   "execution_count": null,
   "metadata": {},
   "outputs": [],
   "source": [
    "first()"
   ]
  },
  {
   "cell_type": "markdown",
   "metadata": {},
   "source": [
    "## Version + Élaborée"
   ]
  },
  {
   "cell_type": "markdown",
   "metadata": {},
   "source": [
    "Adding Name Request for scoring purpose / Add difficulty and max guesses / scoring : if not found > 99999"
   ]
  },
  {
   "cell_type": "code",
   "execution_count": 2,
   "metadata": {},
   "outputs": [],
   "source": [
    "#define \"splash screen\"\n",
    "    \n",
    "def welcome_prompt():\n",
    "    print('\\033[1m' + '/__GUESS THE NUMBER__/' + '\\033[0m' + ' a Maël wonky game'\n",
    "          + '\\n'\n",
    "          + 'Oh! Hello?'\n",
    "          + '\\n'\n",
    "          + 'You just stumbled on a secret projekkt and you might have the unprecedented opportunity '\n",
    "          + 'to be my test subject.')\n",
    "    player_name = (input('First, I will need the name you would like to be refered to : '))\n",
    "    \n",
    "    return player_name\n",
    "\n",
    "#welcome_prompt()\n",
    "    \n"
   ]
  },
  {
   "cell_type": "code",
   "execution_count": 3,
   "metadata": {},
   "outputs": [],
   "source": [
    "#def difficulty(setting)\n",
    "\n",
    "difficulty_and_guesses = {'smooth' : 5, 'standard' : 7, 'experienced' : 10, 'unfathomable' : 14}\n",
    "\n",
    "def player_difficulty():\n",
    "    difficulty_choice = (input('Difficulty selection.'\n",
    "                        + '\\n'\n",
    "                        + 'What will be your challenge?' \n",
    "                        + '\\n' \n",
    "                        + '    Smooth : number between -11 and 13, 5 attempts to find the answer.'\n",
    "                        + '\\n'\n",
    "                        + '    Standard : number between -106 and 99, 7 attempts'\n",
    "                        + '\\n'\n",
    "                        + '    Experienced : number between -877 and 1173, 10 attempts. ')).lower()\n",
    "    while difficulty_choice not in difficulty_and_guesses :\n",
    "    #try:\n",
    "            #difficulty_choice in difficulty_and_guesses\n",
    "            \n",
    "    #except:\n",
    "        difficulty_choice =  (input('\\n'\n",
    "                            + 'You probably mispelled your difficulty :/, . What will be your challenge?' \n",
    "                            + '\\n' \n",
    "                            + '    Smooth : number between -11 and 13, 5 attempts to find the answer.'\n",
    "                            + '\\n'\n",
    "                            + '    Standard : number between -106 and 99, 7 attempts'\n",
    "                            + '\\n'\n",
    "                            + '    Experienced : number between -877 and 1173, 10 attempts. ')).lower()  \n",
    "\n",
    "    return difficulty_choice"
   ]
  },
  {
   "cell_type": "code",
   "execution_count": 7,
   "metadata": {},
   "outputs": [
    {
     "name": "stdout",
     "output_type": "stream",
     "text": [
      "Difficulty selection.\n",
      "What will be your challenge?\n",
      "    Smooth : number between -11 and 13, 5 attempts to find the answer.\n",
      "    Standard : number between -106 and 99, 7 attempts\n",
      "    Experienced : number between -877 and 1173, 10 attempts. smooth\n"
     ]
    }
   ],
   "source": [
    "difficulty = player_difficulty()"
   ]
  },
  {
   "cell_type": "code",
   "execution_count": 8,
   "metadata": {},
   "outputs": [],
   "source": [
    "# Initialisation du nombre de guesses \n",
    "\n",
    "def guesses_initialization(difficulty):    \n",
    "    return difficulty_and_guesses.get(difficulty)\n",
    "\n",
    "#guesses_allowed = guesses_initialization(difficulty)    \n",
    "\n",
    "#print(guesses_allowed)"
   ]
  },
  {
   "cell_type": "code",
   "execution_count": 9,
   "metadata": {},
   "outputs": [],
   "source": [
    "#definir le nombre choisi par l'ordinateur pour la difficulté \n",
    "def game_start(difficulty):\n",
    "    if difficulty == 'smooth' :\n",
    "        Number = random.randint(-11,13)\n",
    "        print('The secret number is somewhere in between '+ '\\033[1m' + '-11 and 13.' + '\\033[0m')\n",
    "    \n",
    "    elif difficulty == 'standard' :\n",
    "        Number = random.randint(-106,99)\n",
    "        print('The secret number is somewhere in between '+ '\\033[1m' + '-106 and 99.' + '\\033[0m')\n",
    "    \n",
    "    elif difficulty == 'experienced' :\n",
    "        Number = random.randint(-877,1173)\n",
    "        print('The secret number is somewhere in between '+ '\\033[1m' + '-877 and 1173.' + '\\033[0m')\n",
    "    \n",
    "    return Number"
   ]
  },
  {
   "cell_type": "code",
   "execution_count": 17,
   "metadata": {},
   "outputs": [
    {
     "name": "stdout",
     "output_type": "stream",
     "text": [
      "The secret number is somewhere in between \u001b[1m-11 and 13.\u001b[0m\n"
     ]
    }
   ],
   "source": [
    "SecretNumber = game_start(difficulty)"
   ]
  },
  {
   "cell_type": "code",
   "execution_count": 18,
   "metadata": {},
   "outputs": [],
   "source": [
    "def single_guess(SecretNumber):\n",
    "    while True:\n",
    "        try:\n",
    "            guess = int(input('Please take a guess at my number: '))\n",
    "            break\n",
    "            \n",
    "        except ValueError:\n",
    "            print('Type a number.')\n",
    "                    \n",
    "    \n",
    "    if guess != SecretNumber:\n",
    "        if guess > SecretNumber:\n",
    "            print('\\033[1m' + 'You are too high.' + '\\033[0m')\n",
    "            return guess\n",
    "            \n",
    "        elif guess < SecretNumber:\n",
    "            print('\\033[1m' + 'You are too low.' + '\\033[0m')\n",
    "            return guess \n",
    "               \n",
    "    else:\n",
    "        print('\\033[1m' + 'Hit.' + '\\033[0m')\n",
    "        return guess"
   ]
  },
  {
   "cell_type": "code",
   "execution_count": 19,
   "metadata": {},
   "outputs": [
    {
     "name": "stdout",
     "output_type": "stream",
     "text": [
      "Please take a guess at my number: 98\n",
      "\u001b[1mYou are too high.\u001b[0m\n"
     ]
    },
    {
     "data": {
      "text/plain": [
       "98"
      ]
     },
     "execution_count": 19,
     "metadata": {},
     "output_type": "execute_result"
    }
   ],
   "source": [
    "single_guess(SecretNumber)"
   ]
  },
  {
   "cell_type": "code",
   "execution_count": 24,
   "metadata": {},
   "outputs": [],
   "source": [
    "#definir previous attempts\n",
    "#previous_guess = single_guess(SecretNumber)\n",
    "#previous_guess_list = []\n",
    "def previously(previous_guess):\n",
    "    previous_guess_list.append(previous_guess)\n",
    "    \n",
    "#attempts = previously(previous_guess)"
   ]
  },
  {
   "cell_type": "code",
   "execution_count": 23,
   "metadata": {
    "scrolled": true
   },
   "outputs": [],
   "source": [
    "#print(previous_guess_list)"
   ]
  },
  {
   "cell_type": "code",
   "execution_count": 20,
   "metadata": {},
   "outputs": [
    {
     "name": "stdout",
     "output_type": "stream",
     "text": [
      "The secret number is somewhere in between \u001b[1m-11 and 13.\u001b[0m\n",
      "10\n"
     ]
    }
   ],
   "source": [
    "SecretNumber = game_start(difficulty)\n",
    "guess_count = 0\n",
    "print(SecretNumber)"
   ]
  },
  {
   "cell_type": "code",
   "execution_count": 26,
   "metadata": {},
   "outputs": [],
   "source": [
    "# game execution\n",
    "def game():\n",
    "    \n",
    "    username = welcome_prompt()\n",
    "    \n",
    "    while True:\n",
    "    \n",
    "        difficulty = player_difficulty()\n",
    "        guesses_allowed = guesses_initialization(difficulty)\n",
    "        secret_number = game_start(difficulty)\n",
    "        guess_count = 0\n",
    "        previous_guess = single_guess(SecretNumber)\n",
    "        previous_guess_list = []\n",
    "\n",
    "        while guess_count < guesses_allowed:\n",
    "            if secret_number in previous_guess_list:\n",
    "                print(f'Wow, how unexpected! You did find my number which was {secret_number} in {guess_count} attempts.')\n",
    "                break\n",
    "                \n",
    "            guess_count += 1\n",
    "            previous_guess = single_guess(secret_number)\n",
    "         #   print('previous guess' , previous_guess)\n",
    "           # print(secret_number , 'secret number')\n",
    "            previous_guess_list.append(previous_guess)\n",
    "            print(previous_guess_list)\n",
    "\n",
    "        if secret_number not in previous_guess_list:\n",
    "            print('As expected, you were not fit for this task.' + '\\n' \n",
    "                  + 'My number was ' + str(secret_number) \n",
    "                  + ' but you are out of your ' + str(guess_count) + ' attempts allowed')\n",
    "        \n",
    "        new_game = input('Want to give the trial another shot? (y/n)')\n",
    "        \n",
    "        while new_game.lower() not in ('y', 'n'):\n",
    "            print ('Input should be \"y\" or \"n\"')\n",
    "            new_game = input('Want to give the trial another shot? (y/n)')\n",
    "            \n",
    "        if new_game == 'n':\n",
    "            print(f'Goodbye {username}')\n",
    "            break\n",
    "\n",
    "        if new_game == 'y':\n",
    "            keep_username = input('Keep your username? (y/n)')\n",
    "            \n",
    "            while keep_username.lower() not in ('y', 'n'):\n",
    "                print ('Input should be \"y\" or \"n\"')\n",
    "                \n",
    "                keep_username = input('Want to keep username? (y/n)')\n",
    "\n",
    "            if keep_username == 'n':\n",
    "                welcome_prompt()\n",
    "          \n",
    "\n",
    "    \n",
    "\n",
    "#playagain = restart()"
   ]
  },
  {
   "cell_type": "code",
   "execution_count": 27,
   "metadata": {},
   "outputs": [
    {
     "name": "stdout",
     "output_type": "stream",
     "text": [
      "\u001b[1m/__GUESS THE NUMBER__/\u001b[0m a Maël wonky game\n",
      "Oh! Hello?\n",
      "You just stumbled on a secret projekkt and you might have the unprecedented opportunity to be my test subject.\n",
      "First, I will need the name you would like to be refered to : mael\n",
      "Difficulty selection.\n",
      "What will be your challenge?\n",
      "    Smooth : number between -11 and 13, 5 attempts to find the answer.\n",
      "    Standard : number between -106 and 99, 7 attempts\n",
      "    Experienced : number between -877 and 1173, 10 attempts. 348\n",
      "\n",
      "You probably mispelled your difficulty :/, . What will be your challenge?\n",
      "    Smooth : number between -11 and 13, 5 attempts to find the answer.\n",
      "    Standard : number between -106 and 99, 7 attempts\n",
      "    Experienced : number between -877 and 1173, 10 attempts. 293U89\n",
      "\n",
      "You probably mispelled your difficulty :/, . What will be your challenge?\n",
      "    Smooth : number between -11 and 13, 5 attempts to find the answer.\n",
      "    Standard : number between -106 and 99, 7 attempts\n",
      "    Experienced : number between -877 and 1173, 10 attempts. é3989\n",
      "\n",
      "You probably mispelled your difficulty :/, . What will be your challenge?\n",
      "    Smooth : number between -11 and 13, 5 attempts to find the answer.\n",
      "    Standard : number between -106 and 99, 7 attempts\n",
      "    Experienced : number between -877 and 1173, 10 attempts. smooth\n",
      "The secret number is somewhere in between \u001b[1m-11 and 13.\u001b[0m\n",
      "Please take a guess at my number: 3948\n",
      "\u001b[1mYou are too high.\u001b[0m\n",
      "Please take a guess at my number: 23\n",
      "\u001b[1mYou are too high.\u001b[0m\n",
      "[23]\n",
      "Please take a guess at my number: 23\n",
      "\u001b[1mYou are too high.\u001b[0m\n",
      "[23, 23]\n",
      "Please take a guess at my number: 24\n",
      "\u001b[1mYou are too high.\u001b[0m\n",
      "[23, 23, 24]\n",
      "Please take a guess at my number: é4\n",
      "Type a number.\n",
      "Please take a guess at my number: -9884\n",
      "\u001b[1mYou are too low.\u001b[0m\n",
      "[23, 23, 24, -9884]\n",
      "Please take a guess at my number: 394449\n",
      "\u001b[1mYou are too high.\u001b[0m\n",
      "[23, 23, 24, -9884, 394449]\n",
      "As expected, you were not fit for this task.\n",
      "My number was -8 but you are out of your 5 attempts allowed\n",
      "Want to give the trial another shot? (y/n)y\n",
      "Keep your username? (y/n)n\n",
      "\u001b[1m/__GUESS THE NUMBER__/\u001b[0m a Maël wonky game\n",
      "Oh! Hello?\n",
      "You just stumbled on a secret projekkt and you might have the unprecedented opportunity to be my test subject.\n"
     ]
    },
    {
     "ename": "KeyboardInterrupt",
     "evalue": "Interrupted by user",
     "output_type": "error",
     "traceback": [
      "\u001b[0;31m---------------------------------------------------------------------------\u001b[0m",
      "\u001b[0;31mKeyboardInterrupt\u001b[0m                         Traceback (most recent call last)",
      "\u001b[0;32m<ipython-input-27-4a8413945148>\u001b[0m in \u001b[0;36m<module>\u001b[0;34m\u001b[0m\n\u001b[0;32m----> 1\u001b[0;31m \u001b[0mgame\u001b[0m\u001b[0;34m(\u001b[0m\u001b[0;34m)\u001b[0m\u001b[0;34m\u001b[0m\u001b[0;34m\u001b[0m\u001b[0m\n\u001b[0m",
      "\u001b[0;32m<ipython-input-26-0e85e9310a84>\u001b[0m in \u001b[0;36mgame\u001b[0;34m()\u001b[0m\n\u001b[1;32m     49\u001b[0m \u001b[0;34m\u001b[0m\u001b[0m\n\u001b[1;32m     50\u001b[0m             \u001b[0;32mif\u001b[0m \u001b[0mkeep_username\u001b[0m \u001b[0;34m==\u001b[0m \u001b[0;34m'n'\u001b[0m\u001b[0;34m:\u001b[0m\u001b[0;34m\u001b[0m\u001b[0;34m\u001b[0m\u001b[0m\n\u001b[0;32m---> 51\u001b[0;31m                 \u001b[0mwelcome_prompt\u001b[0m\u001b[0;34m(\u001b[0m\u001b[0;34m)\u001b[0m\u001b[0;34m\u001b[0m\u001b[0;34m\u001b[0m\u001b[0m\n\u001b[0m\u001b[1;32m     52\u001b[0m \u001b[0;34m\u001b[0m\u001b[0m\n\u001b[1;32m     53\u001b[0m \u001b[0;34m\u001b[0m\u001b[0m\n",
      "\u001b[0;32m<ipython-input-2-ea14952a0f2a>\u001b[0m in \u001b[0;36mwelcome_prompt\u001b[0;34m()\u001b[0m\n\u001b[1;32m      8\u001b[0m           \u001b[0;34m+\u001b[0m \u001b[0;34m'You just stumbled on a secret projekkt and you might have the unprecedented opportunity '\u001b[0m\u001b[0;34m\u001b[0m\u001b[0;34m\u001b[0m\u001b[0m\n\u001b[1;32m      9\u001b[0m           + 'to be my test subject.')\n\u001b[0;32m---> 10\u001b[0;31m     \u001b[0mplayer_name\u001b[0m \u001b[0;34m=\u001b[0m \u001b[0;34m(\u001b[0m\u001b[0minput\u001b[0m\u001b[0;34m(\u001b[0m\u001b[0;34m'First, I will need the name you would like to be refered to : '\u001b[0m\u001b[0;34m)\u001b[0m\u001b[0;34m)\u001b[0m\u001b[0;34m\u001b[0m\u001b[0;34m\u001b[0m\u001b[0m\n\u001b[0m\u001b[1;32m     11\u001b[0m \u001b[0;34m\u001b[0m\u001b[0m\n\u001b[1;32m     12\u001b[0m     \u001b[0;32mreturn\u001b[0m \u001b[0mplayer_name\u001b[0m\u001b[0;34m\u001b[0m\u001b[0;34m\u001b[0m\u001b[0m\n",
      "\u001b[0;32m/usr/local/lib/python3.7/site-packages/ipykernel/kernelbase.py\u001b[0m in \u001b[0;36mraw_input\u001b[0;34m(self, prompt)\u001b[0m\n\u001b[1;32m    861\u001b[0m             \u001b[0mself\u001b[0m\u001b[0;34m.\u001b[0m\u001b[0m_parent_ident\u001b[0m\u001b[0;34m,\u001b[0m\u001b[0;34m\u001b[0m\u001b[0;34m\u001b[0m\u001b[0m\n\u001b[1;32m    862\u001b[0m             \u001b[0mself\u001b[0m\u001b[0;34m.\u001b[0m\u001b[0m_parent_header\u001b[0m\u001b[0;34m,\u001b[0m\u001b[0;34m\u001b[0m\u001b[0;34m\u001b[0m\u001b[0m\n\u001b[0;32m--> 863\u001b[0;31m             \u001b[0mpassword\u001b[0m\u001b[0;34m=\u001b[0m\u001b[0;32mFalse\u001b[0m\u001b[0;34m,\u001b[0m\u001b[0;34m\u001b[0m\u001b[0;34m\u001b[0m\u001b[0m\n\u001b[0m\u001b[1;32m    864\u001b[0m         )\n\u001b[1;32m    865\u001b[0m \u001b[0;34m\u001b[0m\u001b[0m\n",
      "\u001b[0;32m/usr/local/lib/python3.7/site-packages/ipykernel/kernelbase.py\u001b[0m in \u001b[0;36m_input_request\u001b[0;34m(self, prompt, ident, parent, password)\u001b[0m\n\u001b[1;32m    902\u001b[0m             \u001b[0;32mexcept\u001b[0m \u001b[0mKeyboardInterrupt\u001b[0m\u001b[0;34m:\u001b[0m\u001b[0;34m\u001b[0m\u001b[0;34m\u001b[0m\u001b[0m\n\u001b[1;32m    903\u001b[0m                 \u001b[0;31m# re-raise KeyboardInterrupt, to truncate traceback\u001b[0m\u001b[0;34m\u001b[0m\u001b[0;34m\u001b[0m\u001b[0;34m\u001b[0m\u001b[0m\n\u001b[0;32m--> 904\u001b[0;31m                 \u001b[0;32mraise\u001b[0m \u001b[0mKeyboardInterrupt\u001b[0m\u001b[0;34m(\u001b[0m\u001b[0;34m\"Interrupted by user\"\u001b[0m\u001b[0;34m)\u001b[0m \u001b[0;32mfrom\u001b[0m \u001b[0;32mNone\u001b[0m\u001b[0;34m\u001b[0m\u001b[0;34m\u001b[0m\u001b[0m\n\u001b[0m\u001b[1;32m    905\u001b[0m             \u001b[0;32mexcept\u001b[0m \u001b[0mException\u001b[0m \u001b[0;32mas\u001b[0m \u001b[0me\u001b[0m\u001b[0;34m:\u001b[0m\u001b[0;34m\u001b[0m\u001b[0;34m\u001b[0m\u001b[0m\n\u001b[1;32m    906\u001b[0m                 \u001b[0mself\u001b[0m\u001b[0;34m.\u001b[0m\u001b[0mlog\u001b[0m\u001b[0;34m.\u001b[0m\u001b[0mwarning\u001b[0m\u001b[0;34m(\u001b[0m\u001b[0;34m\"Invalid Message:\"\u001b[0m\u001b[0;34m,\u001b[0m \u001b[0mexc_info\u001b[0m\u001b[0;34m=\u001b[0m\u001b[0;32mTrue\u001b[0m\u001b[0;34m)\u001b[0m\u001b[0;34m\u001b[0m\u001b[0;34m\u001b[0m\u001b[0m\n",
      "\u001b[0;31mKeyboardInterrupt\u001b[0m: Interrupted by user"
     ]
    }
   ],
   "source": [
    "game()"
   ]
  },
  {
   "cell_type": "code",
   "execution_count": null,
   "metadata": {},
   "outputs": [],
   "source": []
  }
 ],
 "metadata": {
  "kernelspec": {
   "display_name": "Python 3",
   "language": "python",
   "name": "python3"
  },
  "language_info": {
   "codemirror_mode": {
    "name": "ipython",
    "version": 3
   },
   "file_extension": ".py",
   "mimetype": "text/x-python",
   "name": "python",
   "nbconvert_exporter": "python",
   "pygments_lexer": "ipython3",
   "version": "3.7.7"
  }
 },
 "nbformat": 4,
 "nbformat_minor": 4
}
