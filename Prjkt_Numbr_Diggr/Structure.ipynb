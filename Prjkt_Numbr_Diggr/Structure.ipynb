{
 "cells": [
  {
   "cell_type": "code",
   "execution_count": null,
   "metadata": {},
   "outputs": [],
   "source": [
    "#Game Title Prompt\n",
    "#Short introduction to setting\n",
    "#Ask for player alias\n",
    "#Input to start game, explain rules, see current score, quit ?"
   ]
  },
  {
   "cell_type": "code",
   "execution_count": null,
   "metadata": {},
   "outputs": [],
   "source": [
    "#GAME STARTS\n",
    "    #Defining difficulty setting, number of attemps is also linked to difficulty\n",
    "        #Simple : [-11:13]\n",
    "        #Standard : [-106:99]\n",
    "        #Experienced : [-877:1173]\n",
    "        #Unfathomable : [98967662428:62828768273279378263], random array? limits hidden to the player?\n",
    "            #Must include new hint prompts so out of bound values are taken into account instead of sending back an error\n",
    "        \n",
    "    #Accessibility mode : get your previous trials at each attempt\n",
    "    #Classic Mode : get your previous trials only when you have 1 try left\n",
    "    \n",
    "    \n",
    "#Single guess code\n",
    "\n",
    "#Single guess code implented into round\n",
    "    # Showcase previous attempts of current round when at (MaxAttempts - 1)\n",
    "\n",
    "#Single guess code implented into round into multi round \n",
    "\n",
    "# Results\n",
    "    # Add score to score_dictionnary and display\n",
    "    # Prompt to start again \n",
    "        # Change name?\n",
    "\n"
   ]
  },
  {
   "cell_type": "code",
   "execution_count": 1,
   "metadata": {},
   "outputs": [],
   "source": [
    "##WELCOME PROMPT\n",
    "#Hello, this is a Guess the Number secret projekt.\n",
    "#Depending on the difficulty you will choose, a number in a defined array of real numbers will need \n",
    "#to be guessed in the fewest possible attempts.\n",
    "# How would you like to named ? input required\n",
    "# \n",
    "\n",
    "\n",
    "\n"
   ]
  },
  {
   "cell_type": "code",
   "execution_count": null,
   "metadata": {},
   "outputs": [
    {
     "name": "stdout",
     "output_type": "stream",
     "text": [
      "Hello human, this is a secret GUESS THE NUMBER projekkt of mine.\n"
     ]
    }
   ],
   "source": [
    "#def welcome_prompt\n",
    "    \n",
    "def welcome_prompt():\n",
    "    print('Hello human, this is a secret GUESS THE NUMBER projekkt of mine.' )\n",
    "    player_name = (input('First, I will need the name you would like to be refered to : '))\n",
    "    return player_name\n",
    "\n",
    "welcome_prompt()"
   ]
  },
  {
   "cell_type": "code",
   "execution_count": null,
   "metadata": {},
   "outputs": [],
   "source": []
  }
 ],
 "metadata": {
  "kernelspec": {
   "display_name": "Python 3",
   "language": "python",
   "name": "python3"
  },
  "language_info": {
   "codemirror_mode": {
    "name": "ipython",
    "version": 3
   },
   "file_extension": ".py",
   "mimetype": "text/x-python",
   "name": "python",
   "nbconvert_exporter": "python",
   "pygments_lexer": "ipython3",
   "version": "3.8.3"
  }
 },
 "nbformat": 4,
 "nbformat_minor": 4
}
